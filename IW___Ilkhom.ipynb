{
  "nbformat": 4,
  "nbformat_minor": 0,
  "metadata": {
    "kernelspec": {
      "display_name": "Python 3",
      "language": "python",
      "name": "python3"
    },
    "language_info": {
      "codemirror_mode": {
        "name": "ipython",
        "version": 3
      },
      "file_extension": ".py",
      "mimetype": "text/x-python",
      "name": "python",
      "nbconvert_exporter": "python",
      "pygments_lexer": "ipython3",
      "version": "3.8.5"
    },
    "colab": {
      "name": "IW _ Ilkhom.ipynb",
      "provenance": [],
      "collapsed_sections": []
    }
  },
  "cells": [
    {
      "cell_type": "markdown",
      "metadata": {
        "id": "8EwN20qu_9Jt"
      },
      "source": [
        "## Limit of a Function"
      ]
    },
    {
      "cell_type": "markdown",
      "metadata": {
        "id": "vRICBMN1_9J0"
      },
      "source": [
        "<p>In this independent work, you are going to analyze one of the indeterminate form \n",
        "$1^ \\infty $ </p>\n",
        "\n",
        "<p>For the simplicity, we will be looking at the limit as $x$ approaches 0 from left; that is, $x \\to 0 ^ {-} $\n"
      ]
    },
    {
      "cell_type": "code",
      "metadata": {
        "id": "V-7O1mK6_9J1"
      },
      "source": [
        "import sympy as sym\n",
        "import numpy as np\n",
        "import matplotlib.pyplot as plt\n",
        "%matplotlib inline\n",
        "from sympy.abc import x"
      ],
      "execution_count": null,
      "outputs": []
    },
    {
      "cell_type": "markdown",
      "metadata": {
        "id": "wfugZU83_9J3"
      },
      "source": [
        "## Task 1:\n",
        "<p><ul>\n",
        "<li> Find a function $f(x)$ (preferably rational function) such that <br> $\\lim_{x \\to 0^{-}} f(x) = 0$ </li>\n",
        "<li> Show that the limit is 0 (by making a table of values) </li>\n",
        "<li> Draw the graph of the function in the interval $[-3,3]$ </li></ul></p>"
      ]
    },
    {
      "cell_type": "code",
      "metadata": {
        "id": "iQUsZsNWtLQM"
      },
      "source": [
        "f = sym.lambdify(x, (3*(x**5))/((x**3)-1))   # f(x) function"
      ],
      "execution_count": null,
      "outputs": []
    },
    {
      "cell_type": "code",
      "metadata": {
        "id": "TMW3j0fl_9J4"
      },
      "source": [
        "values = np.array([-0.1,-0.01,-0.001,-0.0001,-0.00001,0])     #table of values from leftside"
      ],
      "execution_count": null,
      "outputs": []
    },
    {
      "cell_type": "code",
      "metadata": {
        "colab": {
          "base_uri": "https://localhost:8080/"
        },
        "id": "Cjp9MGV0tORp",
        "outputId": "49a8089b-395a-437a-ef42-916b11683a59"
      },
      "source": [
        "for value in values:\n",
        "    print(f(value))"
      ],
      "execution_count": null,
      "outputs": [
        {
          "output_type": "stream",
          "name": "stdout",
          "text": [
            "2.997002997002998e-05\n",
            "2.9999970000030007e-10\n",
            "2.999999997e-15\n",
            "2.9999999999970007e-20\n",
            "2.999999999999998e-25\n",
            "-0.0\n"
          ]
        }
      ]
    },
    {
      "cell_type": "code",
      "metadata": {
        "id": "LwRO9j-V1r31"
      },
      "source": [
        "a = np.linspace(-3,3,101)\n"
      ],
      "execution_count": null,
      "outputs": []
    },
    {
      "cell_type": "code",
      "metadata": {
        "colab": {
          "base_uri": "https://localhost:8080/",
          "height": 283
        },
        "id": "_s7lxewS19N9",
        "outputId": "8b322dc9-6e80-4358-c35c-6ab37ad080e5"
      },
      "source": [
        "plt.plot(a, f(a), \"om\", linewidth = 3)\n"
      ],
      "execution_count": null,
      "outputs": [
        {
          "output_type": "execute_result",
          "data": {
            "text/plain": [
              "[<matplotlib.lines.Line2D at 0x7f880e70ca10>]"
            ]
          },
          "metadata": {},
          "execution_count": 96
        },
        {
          "output_type": "display_data",
          "data": {
            "image/png": "[encoded data removed]",
            "text/plain": [
              "<Figure size 432x288 with 1 Axes>"
            ]
          },
          "metadata": {
            "needs_background": "light"
          }
        }
      ]
    },
    {
      "cell_type": "markdown",
      "metadata": {
        "id": "GCmvluoQ_9J4"
      },
      "source": [
        "## Task 2:\n",
        "<p><ul>\n",
        "<li> Find a function $g(x)$ (preferably rational function) such that <br> $\\lim_{x \\to 0^{-}} g(x) = \\infty$ </li>\n",
        "<li> Show that the limit is infinity (by making a table of values) </li>\n",
        "<li> Draw the graph of the function in the interval $[-3,3]$ </li></ul></p>"
      ]
    },
    {
      "cell_type": "code",
      "metadata": {
        "id": "qQUXYFMU_9J5"
      },
      "source": [
        "g = sym.lambdify(x, 1/(x**2))   # g(x) function"
      ],
      "execution_count": null,
      "outputs": []
    },
    {
      "cell_type": "code",
      "metadata": {
        "colab": {
          "base_uri": "https://localhost:8080/"
        },
        "id": "w3uyunZX2hMx",
        "outputId": "affa586f-af06-40b6-f48e-9f39df6c7d76"
      },
      "source": [
        "for value in values:\n",
        "    print(g(value))"
      ],
      "execution_count": null,
      "outputs": [
        {
          "output_type": "stream",
          "name": "stdout",
          "text": [
            "99.99999999999999\n",
            "10000.0\n",
            "1000000.0\n",
            "99999999.99999999\n",
            "9999999999.999998\n",
            "inf\n"
          ]
        },
        {
          "output_type": "stream",
          "name": "stderr",
          "text": [
            "<string>:2: RuntimeWarning: divide by zero encountered in double_scalars\n"
          ]
        }
      ]
    },
    {
      "cell_type": "code",
      "metadata": {
        "colab": {
          "base_uri": "https://localhost:8080/",
          "height": 300
        },
        "id": "Wv2MpeDG2pql",
        "outputId": "60600c4d-34d3-4313-b2f5-59b4541e86da"
      },
      "source": [
        "plt.plot(a, g(a), \"m\", linewidth = 3)\n"
      ],
      "execution_count": null,
      "outputs": [
        {
          "output_type": "stream",
          "name": "stderr",
          "text": [
            "<string>:2: RuntimeWarning: divide by zero encountered in power\n"
          ]
        },
        {
          "output_type": "execute_result",
          "data": {
            "text/plain": [
              "[<matplotlib.lines.Line2D at 0x7f880e6fae90>]"
            ]
          },
          "metadata": {},
          "execution_count": 99
        },
        {
          "output_type": "display_data",
          "data": {
            "image/png": "[encoded data removed]",
            "text/plain": [
              "<Figure size 432x288 with 1 Axes>"
            ]
          },
          "metadata": {
            "needs_background": "light"
          }
        }
      ]
    },
    {
      "cell_type": "markdown",
      "metadata": {
        "id": "Q_-jjbXG_9J6"
      },
      "source": [
        "## Task 3:\n",
        "<p>Now evaluate the limit (by making table of values and drawing the graph)<br> $\\lim_{x \\to 0^{-}} {(1+f(x))}^{g(x)}$</p>"
      ]
    },
    {
      "cell_type": "code",
      "metadata": {
        "id": "Unfc2q_H3RSA"
      },
      "source": [
        "                         # I used my previous functions as F and G variables.\n",
        "K = sym.lambdify(x, (1 + (3*(x**5))/((x**3)-1))**(1/(x**2)))"
      ],
      "execution_count": null,
      "outputs": []
    },
    {
      "cell_type": "markdown",
      "metadata": {
        "id": "pokt9jvLcFgU"
      },
      "source": [
        "######## The result is 1 because Python is always returning 1^inf = 1 ,\n"
      ]
    },
    {
      "cell_type": "code",
      "metadata": {
        "colab": {
          "base_uri": "https://localhost:8080/"
        },
        "id": "ZYi_T8bp3iQF",
        "outputId": "8302e2f6-51c5-40b9-a407-1dc713dc570e"
      },
      "source": [
        "for value in values:\n",
        "    print(K(value))"
      ],
      "execution_count": null,
      "outputs": [
        {
          "output_type": "stream",
          "name": "stdout",
          "text": [
            "1.0030014534563372\n",
            "1.0000030000025273\n",
            "1.0000000031086245\n",
            "1.0\n",
            "1.0\n",
            "1.0\n"
          ]
        },
        {
          "output_type": "stream",
          "name": "stderr",
          "text": [
            "<string>:2: RuntimeWarning: divide by zero encountered in double_scalars\n"
          ]
        }
      ]
    },
    {
      "cell_type": "code",
      "metadata": {
        "colab": {
          "base_uri": "https://localhost:8080/",
          "height": 317
        },
        "id": "j6i393cN6fUU",
        "outputId": "457a2bae-849b-4a3f-9500-9eab3af96fc6"
      },
      "source": [
        "plt.plot(a, K(a), \"m\", linewidth = 3)"
      ],
      "execution_count": null,
      "outputs": [
        {
          "output_type": "stream",
          "name": "stderr",
          "text": [
            "<string>:2: RuntimeWarning: divide by zero encountered in power\n",
            "<string>:2: RuntimeWarning: invalid value encountered in power\n"
          ]
        },
        {
          "output_type": "execute_result",
          "data": {
            "text/plain": [
              "[<matplotlib.lines.Line2D at 0x7f880e66b550>]"
            ]
          },
          "metadata": {},
          "execution_count": 102
        },
        {
          "output_type": "display_data",
          "data": {
            "image/png": "[encoded data removed]",
            "text/plain": [
              "<Figure size 432x288 with 1 Axes>"
            ]
          },
          "metadata": {
            "needs_background": "light"
          }
        }
      ]
    },
    {
      "cell_type": "markdown",
      "metadata": {
        "id": "ULWiGNpg_9J8"
      },
      "source": [
        "## Task 4:\n",
        "<p>Evaluate the following expression (by making table of values):<br> $e^{\\lim_{x \\to 0^{-}} {f(x) \\cdot g(x)}}$"
      ]
    },
    {
      "cell_type": "code",
      "metadata": {
        "id": "OcV4RfHs_9J8"
      },
      "source": [
        "L = (sym.lambdify(x, (3*(x**5))/(x**3-x)*(1/(x**2))))"
      ],
      "execution_count": null,
      "outputs": []
    },
    {
      "cell_type": "code",
      "metadata": {
        "colab": {
          "base_uri": "https://localhost:8080/"
        },
        "id": "euZOD8xjFNE5",
        "outputId": "7f182767-b823-49b5-94c0-7043af547f08"
      },
      "source": [
        "for value in values:\n",
        "    print(np.exp((L(value))))"
      ],
      "execution_count": null,
      "outputs": [
        {
          "output_type": "stream",
          "name": "stdout",
          "text": [
            "0.9701515036966302\n",
            "0.9997000150015001\n",
            "0.9999970000015\n",
            "0.9999999700000002\n",
            "0.9999999997\n",
            "nan\n"
          ]
        },
        {
          "output_type": "stream",
          "name": "stderr",
          "text": [
            "<string>:2: RuntimeWarning: invalid value encountered in double_scalars\n"
          ]
        }
      ]
    },
    {
      "cell_type": "code",
      "metadata": {
        "colab": {
          "base_uri": "https://localhost:8080/",
          "height": 300
        },
        "id": "RPNiiBvlHAQB",
        "outputId": "ceb7db4b-75bc-4e6a-a4eb-fbdcee8b25b5"
      },
      "source": [
        "plt.plot(a, L(a), \"m\", linewidth = 3) "
      ],
      "execution_count": null,
      "outputs": [
        {
          "output_type": "stream",
          "name": "stderr",
          "text": [
            "<string>:2: RuntimeWarning: invalid value encountered in true_divide\n"
          ]
        },
        {
          "output_type": "execute_result",
          "data": {
            "text/plain": [
              "[<matplotlib.lines.Line2D at 0x7f880e5d26d0>]"
            ]
          },
          "metadata": {},
          "execution_count": 105
        },
        {
          "output_type": "display_data",
          "data": {
            "image/png": "[encoded data removed]",
            "text/plain": [
              "<Figure size 432x288 with 1 Axes>"
            ]
          },
          "metadata": {
            "needs_background": "light"
          }
        }
      ]
    },
    {
      "cell_type": "markdown",
      "metadata": {
        "id": "yh8tjeSk_9J8"
      },
      "source": [
        "## Task 5\n",
        "<p> What do you think? Are these two expressions in Task3 and Task 4 equal? Explain briefly.</p>"
      ]
    },
    {
      "cell_type": "markdown",
      "metadata": {
        "id": "qybLmkJCTLJo"
      },
      "source": [
        "ANSWER: YES! Both answers are equal. the limit is closing one in both cases. These notations are similar to Euler's number's property. The formation of Euler's number comes from [ e lim->inf (1+1/n)**n ]. I think because of this rule, they must have the similar values when we calculate the limit."
      ]
    },
    {
      "cell_type": "markdown",
      "metadata": {
        "id": "q_wZefGv_9J9"
      },
      "source": [
        "## Task 6\n",
        "<p> Use <b>sympy</b> library's built in function to calculate the limits to check your solutions.<br><a href=https://www.sympy.org/en/index.html>Click to read the documentation.</a></p>"
      ]
    },
    {
      "cell_type": "code",
      "metadata": {
        "id": "l75zyVZ8_9J-",
        "colab": {
          "base_uri": "https://localhost:8080/",
          "height": 37
        },
        "outputId": "480a1770-050d-401f-e6c8-eb8f25d47b0f"
      },
      "source": [
        "sym.limit((3*(x**5))/((x**3)-1), x, 0, dir='-')   # Task 1  -  f(x)"
      ],
      "execution_count": null,
      "outputs": [
        {
          "output_type": "execute_result",
          "data": {
            "text/latex": "$\\displaystyle 0$",
            "text/plain": [
              "0"
            ]
          },
          "metadata": {},
          "execution_count": 106
        }
      ]
    },
    {
      "cell_type": "code",
      "metadata": {
        "colab": {
          "base_uri": "https://localhost:8080/",
          "height": 37
        },
        "id": "GXK8F7KcQADy",
        "outputId": "4ced4ae6-4905-48ef-bf0e-30eb738688c9"
      },
      "source": [
        "sym.limit((1/(x**2)), x, 0, dir='-')   # Task 2  -  g(x)"
      ],
      "execution_count": null,
      "outputs": [
        {
          "output_type": "execute_result",
          "data": {
            "text/latex": "$\\displaystyle \\infty$",
            "text/plain": [
              "oo"
            ]
          },
          "metadata": {},
          "execution_count": 107
        }
      ]
    },
    {
      "cell_type": "code",
      "metadata": {
        "colab": {
          "base_uri": "https://localhost:8080/",
          "height": 37
        },
        "id": "QLBgVAJcQS9E",
        "outputId": "3b76773d-2825-4da2-de87-2fae4a12a9f1"
      },
      "source": [
        "sym.limit((1 + (3*(x**5))/((x**3)-1))**(1/(x**2)), x, 0, dir='-')   # Task 3  - lim 0- (1+f(x))**g(x)"
      ],
      "execution_count": null,
      "outputs": [
        {
          "output_type": "execute_result",
          "data": {
            "text/latex": "$\\displaystyle 1$",
            "text/plain": [
              "1"
            ]
          },
          "metadata": {},
          "execution_count": 108
        }
      ]
    },
    {
      "cell_type": "markdown",
      "metadata": {
        "id": "h5kF_TarYgZU"
      },
      "source": [
        "After comparing the answers with built-in limit function, I can say that all my solutions match with the answers."
      ]
    }
  ]
}