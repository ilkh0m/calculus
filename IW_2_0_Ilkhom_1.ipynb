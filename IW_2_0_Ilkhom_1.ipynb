{
  "cells": [
    {
      "cell_type": "markdown",
      "metadata": {
        "id": "rJ9XCKzILg5u"
      },
      "source": [
        "# **Independent Work 1:**\n",
        "\n",
        "## By Ilkhomzhon Sidikov\n",
        "\n",
        "# Part 1:\n",
        " \n",
        "## *   Implement Maclaurin Polynomial. Input: f(x), n. Output: P_n(x)\n",
        "## *   Implement Taylor Polynomial. Input: f(x), c, n. Output: P_n(x)\n",
        "## *   Bonus: Comparing the graphs of f(x) and P_n(x)\n",
        "\n",
        "\n",
        "# Part 2:\n",
        "\n",
        "## *   Approximate Pi using arctan1\n",
        "## *   Approximate Pi using Ramanujan's Series (page 663, Exercise:61)\n",
        "## *   Bonus: Compare these two approximations\n"
      ]
    },
    {
      "cell_type": "markdown",
      "source": [
        "### Code block for bigger outputs fonts"
      ],
      "metadata": {
        "id": "8rG9NDavUXYL"
      }
    },
    {
      "cell_type": "code",
      "source": [
        "### Code block for bigger outputs fonts\n",
        "def increase_font():               \n",
        "  from IPython.display import Javascript\n",
        "  display(Javascript('''\n",
        "  for (rule of document.styleSheets[0].cssRules){\n",
        "    if (rule.selectorText=='body') {\n",
        "      rule.style.fontSize = '26px'\n",
        "      break\n",
        "    }\n",
        "  }\n",
        "  '''))\n",
        "increase_font()\n",
        "##\n",
        "\n",
        "get_ipython().events.register('pre_run_cell', increase_font)  # Bigger Outputs by defauls"
      ],
      "metadata": {
        "colab": {
          "base_uri": "https://localhost:8080/",
          "height": 17
        },
        "id": "VEFDdxO5RaUV",
        "outputId": "9234a124-d4a0-4d27-83df-fd75d5feedb6"
      },
      "execution_count": 19,
      "outputs": [
        {
          "output_type": "display_data",
          "data": {
            "text/plain": [
              "<IPython.core.display.Javascript object>"
            ],
            "application/javascript": [
              "\n",
              "  for (rule of document.styleSheets[0].cssRules){\n",
              "    if (rule.selectorText=='body') {\n",
              "      rule.style.fontSize = '26px'\n",
              "      break\n",
              "    }\n",
              "  }\n",
              "  "
            ]
          },
          "metadata": {}
        }
      ]
    },
    {
      "cell_type": "markdown",
      "source": [
        "### Part 1: Taylor & Maclaurin Series Approximation\n"
      ],
      "metadata": {
        "id": "FjKW-6ffVZfb"
      }
    },
    {
      "cell_type": "code",
      "execution_count": 27,
      "metadata": {
        "colab": {
          "base_uri": "https://localhost:8080/",
          "height": 746
        },
        "id": "GwW0mwLnLRmm",
        "outputId": "095e57d0-959b-4fdf-8e52-972f94585a20"
      },
      "outputs": [
        {
          "output_type": "display_data",
          "data": {
            "text/plain": [
              "<IPython.core.display.Javascript object>"
            ],
            "application/javascript": [
              "\n",
              "  for (rule of document.styleSheets[0].cssRules){\n",
              "    if (rule.selectorText=='body') {\n",
              "      rule.style.fontSize = '26px'\n",
              "      break\n",
              "    }\n",
              "  }\n",
              "  "
            ]
          },
          "metadata": {}
        },
        {
          "output_type": "stream",
          "name": "stdout",
          "text": [
            "Enter the function: exp(x)\n",
            "For Taylor Series: 'T' ot 't' /// For Maclaurin Series: 'M' or 'm't\n",
            "Enter the center point: 1\n",
            "Enter number of terms: 5\n",
            " \n",
            "Approximation of a function exp(x) centered at 1 after 5 terms: \n",
            "By implemented method: \n",
            "2.71828 + 2.71968*(x - 1)^1 + 1.35925*(x - 1)^2 + 0.45102*(x - 1)^3 + 0.1131*(x - 1)^4 + 0.02338*(x - 1)^5\n",
            "\n",
            "By Build in Sci-pi Function: \n",
            "         5          4          3         2\n",
            "0.02253 x + 0.1132 x + 0.4531 x + 1.359 x + 2.718 x + 2.718\n",
            " \n"
          ]
        },
        {
          "output_type": "display_data",
          "data": {
            "text/plain": [
              "<Figure size 432x288 with 1 Axes>"
            ],
            "image/png": "[encoded data removed]"
          },
          "metadata": {
            "needs_background": "light"
          }
        }
      ],
      "source": [
        "from ipywidgets.widgets.widget_int import IntSlider\n",
        "from sympy import var\n",
        "from scipy.misc import derivative\n",
        "import numpy as np\n",
        "from sympy import sympify\n",
        "from sympy.utilities.lambdify import lambdify\n",
        "from scipy.interpolate import approximate_taylor_polynomial   #Importing Build In Function of Sci-Py Library\n",
        "from math import e , pi\n",
        "import matplotlib.pyplot as plt\n",
        "import math\n",
        "\n",
        "\n",
        "#Taking F(x) from the user\n",
        "\n",
        "x = var('x') \n",
        "user_func = input(\"Enter the function: \")  \n",
        "method = input(\"For Taylor Series: 'T' ot 't' /// For Maclaurin Series: 'M' or 'm'\")\n",
        "center = 0\n",
        "\n",
        "\n",
        "#Choice of Maclaurin\n",
        "if method == 'T' or method == 't':\n",
        "  center = int(input(\"Enter the center point: \"))\n",
        "\n",
        "nterms = int(input(\"Enter number of terms: \"))\n",
        "\n",
        "#Making function responsive\n",
        "\n",
        "expr = sympify(user_func)\n",
        "f = lambdify(x, expr)\n",
        "\n",
        "\n",
        "\n",
        "#Implementation of Taylor series:\n",
        "\n",
        "def TaylorS(func, term, center):\n",
        "  coeff = []\n",
        "  deriv = 2 * term\n",
        "  result = ''\n",
        "\n",
        "  if deriv % 2 == 0: deriv += 1\n",
        "\n",
        "  for i in range(0, term + 1):\n",
        "    coeff.append(round(derivative(func, center, n=i, order=deriv) / math.factorial(i), 5))\n",
        "\n",
        "  for i in range(term + 1):\n",
        "    if coeff[i] != 0:\n",
        "      result += str(coeff[i]) + (\"*(x - {})^{}\".format(center, i) if i > 0 else \"\") + \" + \"\n",
        "  \n",
        "  if result.endswith(\" + \"):\n",
        "    result = result[:-3] \n",
        "  return result\n",
        "\n",
        "\n",
        "\n",
        "#Values to plot the graph\n",
        "\n",
        "x = np.linspace(-8.0, 8.0, num=100)\n",
        "plt.plot(x, f(x), label=f\"f(x) = {user_func}\")\n",
        "\n",
        "print(' ')\n",
        "print(\"Approximation of a function\", user_func, \"centered at\", center, \"after\",nterms,\"terms: \")\n",
        "print('By implemented method: ')\n",
        "print(TaylorS(f,nterms,center))\n",
        "print('')\n",
        "\n",
        "\n",
        "\n",
        "#Comparing the implemention with build-in Taylor series function of Sci-Py Library:\n",
        "\n",
        "for term in np.arange(1, nterms+1):\n",
        "    taylor = approximate_taylor_polynomial(f, center, term, 1, order=term + 2)\n",
        "    plt.plot(x, taylor(x),'--', label=f\"Term = {term}\")\n",
        "\n",
        "print('By Build in Sci-pi Function: ')\n",
        "print(taylor)\n",
        "print(' ')\n",
        "\n",
        "\n",
        "\n",
        "#Graphing\n",
        "\n",
        "plt.legend(bbox_to_anchor=(1.05, 1), loc='upper left', borderaxespad=0.0, shadow=True)\n",
        "plt.tight_layout()\n",
        "plt.axis([-10, 10, -10, 10])\n",
        "plt.show()\n"
      ]
    },
    {
      "cell_type": "markdown",
      "source": [
        "________________________________________________________________________________________________________________________________________________________________\n"
      ],
      "metadata": {
        "id": "nwetKfHwSUL7"
      }
    },
    {
      "cell_type": "markdown",
      "metadata": {
        "id": "NoiZPGA-W_YT"
      },
      "source": [
        "###Part 2:\n",
        "\n",
        "### I approximated Pi number in 3 different ways and so far Ramanujan's method is clear winner among them. \n",
        "### Then, Arctan(1) approximation gives with 5-6th decimal digit precision. \n",
        "### Also, I implemented Monte Carlo Method because it was one of the coding questions that I like. It gives around 2-3 decimal digit precision\n",
        "\n"
      ]
    },
    {
      "cell_type": "code",
      "execution_count": 31,
      "metadata": {
        "colab": {
          "base_uri": "https://localhost:8080/",
          "height": 154
        },
        "id": "ocNC_zYVYSj2",
        "outputId": "98eb466e-a9d7-4a0f-9e95-0a51f6a790b2"
      },
      "outputs": [
        {
          "output_type": "display_data",
          "data": {
            "text/plain": [
              "<IPython.core.display.Javascript object>"
            ],
            "application/javascript": [
              "\n",
              "  for (rule of document.styleSheets[0].cssRules){\n",
              "    if (rule.selectorText=='body') {\n",
              "      rule.style.fontSize = '26px'\n",
              "      break\n",
              "    }\n",
              "  }\n",
              "  "
            ]
          },
          "metadata": {}
        },
        {
          "output_type": "stream",
          "name": "stdout",
          "text": [
            "Estimated Pi:  3.1415925535897915\n",
            "Actual Pi:     3.141592653589793\n",
            " \n",
            "Arctan(1) in 10000000 steps approximates with 6th decimal digit precision\n"
          ]
        }
      ],
      "source": [
        "# \"ArcTan(1)\"  Pi Approximation\n",
        "\n",
        "import math\n",
        "\n",
        "res = 0\n",
        "steps = 10000000  #for each method I used 10 million iterations\n",
        "\n",
        "for x in range(steps):\n",
        "  numerator = math.pow(-1, x) * math.pow(1, 2*x+1)\n",
        "  denominator = 2*x+1\n",
        "  res += numerator/denominator\n",
        "\n",
        "res = res*4\n",
        "\n",
        "print(\"Estimated Pi: \",res) \n",
        "print(\"Actual Pi:    \",math.pi)\n",
        "\n",
        "sres = str(res)\n",
        "spi = str(math.pi)\n",
        "\n",
        "# Calculating precision\n",
        "match = 0\n",
        "for i in range(min(len(sres),len(spi))):\n",
        "  if sres[i] == spi[i]:\n",
        "    match+=1\n",
        "  else:\n",
        "     break\n",
        "\n",
        "print(' ')\n",
        "print(\"Arctan(1) in \"+str(steps)+\" steps approximates with \"+str(match-2)+\"th decimal digit precision\")"
      ]
    },
    {
      "cell_type": "code",
      "execution_count": 22,
      "metadata": {
        "colab": {
          "base_uri": "https://localhost:8080/",
          "height": 154
        },
        "id": "90IZ4Q_wgylT",
        "outputId": "ecba85b1-73d0-4e7a-9734-fa7d07fbc515"
      },
      "outputs": [
        {
          "output_type": "display_data",
          "data": {
            "text/plain": [
              "<IPython.core.display.Javascript object>"
            ],
            "application/javascript": [
              "\n",
              "  for (rule of document.styleSheets[0].cssRules){\n",
              "    if (rule.selectorText=='body') {\n",
              "      rule.style.fontSize = '26px'\n",
              "      break\n",
              "    }\n",
              "  }\n",
              "  "
            ]
          },
          "metadata": {}
        },
        {
          "output_type": "stream",
          "name": "stdout",
          "text": [
            "Estimated Pi:  3.141592653589793\n",
            "Actual Pi:     3.141592653589793\n",
            " \n",
            "Ramanujan's Method approximates Pi with 15th decimal digit precision\n"
          ]
        }
      ],
      "source": [
        "# \"RAMANUJAN\" Pi Approximation\n",
        "\n",
        "import math\n",
        "# Factorial Function\n",
        "def factorial(x):\n",
        "    if x==0:\n",
        "        return 1\n",
        "    else:\n",
        "      r = x*factorial(x-1)\n",
        "      return r\n",
        "\n",
        "sum = 0\n",
        "n = 0\n",
        "i = (math.sqrt(8))/9801\n",
        "\n",
        "while True:\n",
        "        #Ramanujan Formula:\n",
        "        step = i*(factorial(4*n)/math.pow(factorial(n),4)) * ((26390*n+1103)/math.pow(396,4*n))\n",
        "        sum += step\n",
        "        \n",
        "        #Stops when it reaches 15th digit precision\n",
        "        if(abs(step) < 1e-15):\n",
        "            break\n",
        "        n += 1\n",
        "\n",
        "res = 1/sum\n",
        "\n",
        "\n",
        "print(\"Estimated Pi: \",res) \n",
        "print(\"Actual Pi:    \",math.pi)\n",
        "\n",
        "sres = str(res)\n",
        "spi = str(math.pi)\n",
        "\n",
        "# Calculating precision\n",
        "match = 0\n",
        "for i in range(min(len(sres),len(spi))):\n",
        "  if sres[i] == spi[i]:\n",
        "    match+=1\n",
        "  else:\n",
        "     break\n",
        "print(' ')\n",
        "print(\"Ramanujan's Method approximates Pi with \"+str(match-2)+\"th decimal digit precision\")\n"
      ]
    },
    {
      "cell_type": "code",
      "execution_count": 30,
      "metadata": {
        "colab": {
          "base_uri": "https://localhost:8080/",
          "height": 188
        },
        "id": "tceUCao2W-FL",
        "outputId": "dd5f430a-62dd-4487-f38f-3509c6afd529"
      },
      "outputs": [
        {
          "output_type": "display_data",
          "data": {
            "text/plain": [
              "<IPython.core.display.Javascript object>"
            ],
            "application/javascript": [
              "\n",
              "  for (rule of document.styleSheets[0].cssRules){\n",
              "    if (rule.selectorText=='body') {\n",
              "      rule.style.fontSize = '26px'\n",
              "      break\n",
              "    }\n",
              "  }\n",
              "  "
            ]
          },
          "metadata": {}
        },
        {
          "output_type": "stream",
          "name": "stdout",
          "text": [
            "Estimated Pi:  3.1416116\n",
            "Actual Pi:     3.141592653589793\n",
            " \n",
            "Monte Carlo Method in 10000000 steps approximates with 3 decimal digit precision.\n",
            "*** Monte Carlo Method gives different approximation at each run ***\n"
          ]
        }
      ],
      "source": [
        "# \"MONTE CARLO\" Pi Approximation \n",
        "\n",
        "import numpy as np\n",
        "\n",
        "nSteps = 10000000\n",
        "radius = 1\n",
        "dotsInside = 0\n",
        "\n",
        "\n",
        "#Uniformly plotting dots in 1x1 square that has unit circle inside\n",
        "\n",
        "XrandCoords = np.random.default_rng().uniform(-1, 1, (nSteps,))  \n",
        "YrandCoords = np.random.default_rng().uniform(-1, 1, (nSteps,))\n",
        " \n",
        "for i in range(nSteps):\n",
        "    x = XrandCoords[i]\n",
        "    y = YrandCoords[i]\n",
        "\n",
        "    if x**2+y**2<=radius**2:\n",
        "        dotsInside = dotsInside + 1\n",
        "\n",
        "\n",
        "res = 4*dotsInside/nSteps\n",
        "\n",
        "print(\"Estimated Pi: \",res) \n",
        "print(\"Actual Pi:    \",math.pi)\n",
        "\n",
        "sres = str(res)\n",
        "spi = str(math.pi)\n",
        "\n",
        "# Calculating precision\n",
        "match = 0\n",
        "for i in range(min(len(sres),len(spi))):\n",
        "  if sres[i] == spi[i]:\n",
        "    match+=1\n",
        "  else:\n",
        "     break\n",
        "print(' ')\n",
        "print(\"Monte Carlo Method in \"+str(nSteps)+\" steps approximates with \"+str(match-2)+\" decimal digit precision.\")\n",
        "print(\"*** Monte Carlo Method gives different approximation at each run ***\")\n"
      ]
    }
  ],
  "metadata": {
    "colab": {
      "collapsed_sections": [
        "8rG9NDavUXYL",
        "FjKW-6ffVZfb",
        "NoiZPGA-W_YT"
      ],
      "name": "IW 2.0_Ilkhom_1.ipynb",
      "provenance": []
    },
    "kernelspec": {
      "display_name": "Python 3",
      "name": "python3"
    },
    "language_info": {
      "name": "python"
    }
  },
  "nbformat": 4,
  "nbformat_minor": 0
}