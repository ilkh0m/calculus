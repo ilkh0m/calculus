{
  "nbformat": 4,
  "nbformat_minor": 0,
  "metadata": {
    "kernelspec": {
      "display_name": "Python 3",
      "language": "python",
      "name": "python3"
    },
    "language_info": {
      "codemirror_mode": {
        "name": "ipython",
        "version": 3
      },
      "file_extension": ".py",
      "mimetype": "text/x-python",
      "name": "python",
      "nbconvert_exporter": "python",
      "pygments_lexer": "ipython3",
      "version": "3.8.5"
    },
    "colab": {
      "name": "IW_ilkhom_2.ipynb",
      "provenance": []
    }
  },
  "cells": [
    {
      "cell_type": "markdown",
      "metadata": {
        "id": "96z0atfbTfsq"
      },
      "source": [
        "## Applications of Differentiation"
      ]
    },
    {
      "cell_type": "markdown",
      "metadata": {
        "id": "NSPyvqZ1Tfs5"
      },
      "source": [
        "<p>In this independent work, you are going to implement two applications Linear Approximation and Newton's Method</p>\n",
        "\n",
        "<p>For more information, check out the textbook. </p>\n"
      ]
    },
    {
      "cell_type": "markdown",
      "metadata": {
        "id": "t39qcmHZ-cbR"
      },
      "source": [
        "Done by Ilkhomzhon Sidikov"
      ]
    },
    {
      "cell_type": "code",
      "metadata": {
        "id": "dfm4jaaDTfs8"
      },
      "source": [
        "import sympy as sym\n",
        "import numpy as np\n",
        "import matplotlib.pyplot as plt\n",
        "%matplotlib inline\n",
        "from sympy.abc import x\n",
        "from sympy.parsing.sympy_parser import parse_expr\n",
        "from matplotlib.patches import Circle\n",
        "import math\n"
      ],
      "execution_count": 95,
      "outputs": []
    },
    {
      "cell_type": "markdown",
      "metadata": {
        "id": "l916c77MTftB"
      },
      "source": [
        "## Task 1: Linear Approximation\n",
        "<p>Implement a function that takes a function and a value, and returns a linear approximation of that function at that value.</p>"
      ]
    },
    {
      "cell_type": "code",
      "metadata": {
        "colab": {
          "base_uri": "https://localhost:8080/",
          "height": 597
        },
        "id": "s6awiUEVqwnx",
        "outputId": "492f06f0-a425-4d8c-8a10-c1221e26010a"
      },
      "source": [
        "x = sym.symbols('x')\n",
        "eqn = x**0.5                       # WORKS ONLY WITH SQUARE ROOT FUNCTION\n",
        "xx0 = int(input(\"Enter positive value in range ( 0 -> 130) for f(x) = x**0.5 :- \"))\n",
        "x0 = xx0**0.5\n",
        "\n",
        "def LinApprox(g, a):\n",
        "    g = sym.sympify(g)   ##converts string into sympy object            \n",
        "    f = sym.lambdify(x, g)  ##converts into function\n",
        "    val_x = np.linspace(0, 12, 100)   ## x values to be plotted\n",
        "   \n",
        "    if 0 < xx0 <= 1.5:                 #making a list of close values\n",
        "      k = 1**0.5\n",
        "    elif 1.5 < xx0 <= 6:\n",
        "      k = 4**0.5\n",
        "    elif 6 < xx0 <= 12:\n",
        "      k = 9**0.5\n",
        "    elif 12 < xx0 <= 20:\n",
        "      k = 16**0.5\n",
        "    elif 20 < xx0 <= 30:\n",
        "      k = int(25**0.5)\n",
        "    elif 30 < xx0 <= 40 :\n",
        "      k = 36**0.5\n",
        "    elif 40 < xx0 <= 55 :\n",
        "      k = 49**0.5\n",
        "    elif 55 < xx0 <= 72 :\n",
        "      k = 64**0.5\n",
        "    elif 72 < xx0 <= 90 :\n",
        "      k = 81**0.5\n",
        "    elif 90 < xx0 <= 110 :\n",
        "      k = 100**0.5\n",
        "    elif 110 < xx0 <= 130 :\n",
        "      k = 121**0.5\n",
        "    elif 130 < xx0:\n",
        "      print('')\n",
        "      return print(\"  ERROR !!!  Your values reaches my limit ( 130 )\")\n",
        "      \n",
        "      \n",
        "\n",
        "    fig, ax = plt.subplots(figsize = (7, 7))\n",
        "    ax.plot(val_x, f(val_x), linewidth = 3)   # plotting the function\n",
        "    slope = sym.diff(g, x).subs(x, k)   # finding slope with k value\n",
        "    \n",
        "    appx_result = f(k**2) + sym.diff(g, x).subs(x, k**2) * (xx0-(k**2))  # approximating\n",
        "\n",
        "    ax.plot(val_x, f(a) + slope * (val_x - a), 'r--', linewidth = 2)   #plotting the tangent line\n",
        "    circle = Circle((a, f(a)), 0.2,)                                 #marking with the circle\n",
        "    ax.add_patch(circle)\n",
        "    plt.xlabel('------- X Values -------')\n",
        "    plt.ylabel('------- Y Values -------')\n",
        "    plt.title('Graph of x**0.5')\n",
        "    \n",
        "    plt.xlim(0, 12)\n",
        "    plt.ylim(0, 12)\n",
        "    print(\"\")\n",
        "    print(\"The linear approximation of \" , str(xx0)+'**0.5' , \" is \", appx_result) \n",
        "    print(\"\")\n",
        "    print(\"Required True value is\", x0)\n",
        "    print(\"\")\n",
        "    print(\"The graph of Approximation:\")\n",
        "    print(\"\")\n",
        "LinApprox(eqn,x0)"
      ],
      "execution_count": 97,
      "outputs": [
        {
          "output_type": "stream",
          "name": "stdout",
          "text": [
            "Enter positive value in range ( 0 -> 130) for f(x) = x**0.5 :- 80\n",
            "\n",
            "The linear approximation of  80**0.5  is  8.94444444444444\n",
            "\n",
            "Required True value is 8.94427190999916\n",
            "\n",
            "The graph of Approximation:\n",
            "\n"
          ]
        },
        {
          "output_type": "display_data",
          "data": {
            "image/png": "[encoded data removed]",
            "text/plain": [
              "<Figure size 504x504 with 1 Axes>"
            ]
          },
          "metadata": {
            "needs_background": "light"
          }
        }
      ]
    },
    {
      "cell_type": "markdown",
      "metadata": {
        "id": "nH1WphrpTftE"
      },
      "source": [
        "## Task 2: Newton's Method\n",
        "<p>Implement a function that takes a differentiable function and returns any root of that function.</p>"
      ]
    },
    {
      "cell_type": "code",
      "metadata": {
        "colab": {
          "base_uri": "https://localhost:8080/",
          "height": 625
        },
        "id": "oH7WTwD4jHqm",
        "outputId": "a45b1566-8400-4f34-8754-8ed1b66a9d28"
      },
      "source": [
        "\"\"\" Newton's Method \"\"\"\n",
        "from sympy import *\n",
        "x = symbols('x')\n",
        "\n",
        "eqn = input(\"Enter the function:- \")\n",
        "x0 = int(input(\"Enter 1st guess:- \"))\n",
        "z = int(input(\"Enter total number of guesses:- \"))\n",
        "expr =  parse_expr(eqn)\n",
        "expr_prime = expr.diff(x)\n",
        "\n",
        "def func(y):                                     #function\n",
        "    return expr.subs(x,y)\n",
        "\n",
        "def derivFunc( y ):                              #derivative of function\n",
        "    return expr_prime.subs(x,y)\n",
        "\n",
        "def newtonRaphson(s, x ):                        #newton's  methos implimentation\n",
        "    print(\"\")\n",
        "    \n",
        "    xv = np.linspace(start = 0, stop = 7, num = 100)    #plotting the graph\n",
        "    yv = []\n",
        "    for i in xv:\n",
        "      yv.append(func(i))\n",
        "    plt.xlabel('------- X Values -------')\n",
        "    plt.ylabel('------- Y Values -------')\n",
        "    plt.title('Graph of ' + eqn)\n",
        "    plt.plot(xv,yv,linewidth = 3)\n",
        "\n",
        "    print(\"\")\n",
        "    print(\"Results:\")\n",
        "    print(\"\")\n",
        "   \n",
        "    for m in range(s):\n",
        "        h = func(x) / derivFunc(x) \n",
        "        if (derivFunc(x) !=0 and abs(h) >= 0.001):\n",
        "            plt.plot((h,x),(0,func(x)),\"r--\")\n",
        "            x = x - h \n",
        "            print(m+1 , \"- Guess ---> x == %.10f\"% x  , sep=\" \")\n",
        "            print(\"\")\n",
        "            \n",
        "        elif(abs(h) <= 0.001):\n",
        "            print(\"Accuracy overreached, I am Closing the program !\")\n",
        "            print('')\n",
        "            break;\n",
        "        elif(derivFunc(x) ==0):\n",
        "            print(\"Derivative is 0, devision by 0, I am Closing Program! \")\n",
        "            \n",
        "            break;\n",
        "       \n",
        "    plt.xlim(0,7)\n",
        "    plt.ylim(0,50)\n",
        "\n",
        "newtonRaphson(z,x0)"
      ],
      "execution_count": 98,
      "outputs": [
        {
          "output_type": "stream",
          "name": "stdout",
          "text": [
            "Enter the function:- x**2-1\n",
            "Enter 1st guess:- 8\n",
            "Enter total number of guesses:- 10\n",
            "\n",
            "\n",
            "Results:\n",
            "\n",
            "1 - Guess ---> x == 4.0625000000\n",
            "\n",
            "2 - Guess ---> x == 2.1543269231\n",
            "\n",
            "3 - Guess ---> x == 1.3092545126\n",
            "\n",
            "4 - Guess ---> x == 1.0365239732\n",
            "\n",
            "5 - Guess ---> x == 1.0006434972\n",
            "\n",
            "Accuracy overreached, I am Closing the program\n",
            "\n"
          ]
        },
        {
          "output_type": "display_data",
          "data": {
            "image/png": "[encoded data removed]",
            "text/plain": [
              "<Figure size 432x288 with 1 Axes>"
            ]
          },
          "metadata": {
            "needs_background": "light"
          }
        }
      ]
    }
  ]
}